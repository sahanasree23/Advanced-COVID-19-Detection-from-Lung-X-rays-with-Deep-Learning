{
  "cells": [
    {
      "cell_type": "markdown",
      "metadata": {
        "id": "KukCpyGdbr4i"
      },
      "source": [
        "## Connect to Google Drive to access Dataset"
      ]
    },
    {
      "cell_type": "code",
      "execution_count": null,
      "metadata": {
        "id": "fiVzQaKEAoj-"
      },
      "outputs": [],
      "source": [
        "from google.colab import drive\n",
        "drive.mount('/content/drive/')"
      ]
    },
    {
      "cell_type": "code",
      "execution_count": null,
      "metadata": {
        "id": "Yuchf3Lmbomr"
      },
      "outputs": [],
      "source": [
        "%cd /content/drive/MyDrive"
      ]
    },
    {
      "cell_type": "markdown",
      "metadata": {
        "id": "xXCUgAEOE3ve"
      },
      "source": []
    },
    {
      "cell_type": "code",
      "execution_count": null,
      "metadata": {
        "id": "rsuxVue_iLFJ"
      },
      "outputs": [],
      "source": [
        "!pip install opendatasets\n",
        "import opendatasets as od\n",
        "import pandas as pd\n",
        "od.download(\"https://www.kaggle.com/datasets/tawsifurrahman/covid19-radiography-database\")"
      ]
    },
    {
      "cell_type": "code",
      "execution_count": null,
      "metadata": {
        "collapsed": true,
        "id": "DPaGADEPkLTU"
      },
      "outputs": [],
      "source": [
        "!unzip '/content/drive/MyDrive/covid19-radiography-database/covid19-radiography-database.zip' -d '/content/drive/MyDrive/covid19-radiography-database'"
      ]
    },
    {
      "cell_type": "code",
      "source": [
        "!ls \"/content/drive/MyDrive/covid19-radiography-database/COVID-19_Radiography_Dataset\""
      ],
      "metadata": {
        "id": "tHIcba6y5-p1"
      },
      "execution_count": null,
      "outputs": []
    },
    {
      "cell_type": "markdown",
      "source": [
        "## Create Training And Testing Dataset"
      ],
      "metadata": {
        "id": "lJamN-5Q-3_s"
      }
    },
    {
      "cell_type": "code",
      "execution_count": null,
      "metadata": {
        "id": "gejc_tsQ6ch9"
      },
      "outputs": [],
      "source": [
        "!mkdir /content/drive/MyDrive/Xray_train_data"
      ]
    },
    {
      "cell_type": "code",
      "execution_count": null,
      "metadata": {
        "id": "lNAHK3VsBAQO"
      },
      "outputs": [],
      "source": [
        "!cp -R \"/content/drive/MyDrive/covid19-radiography-database/COVID-19_Radiography_Dataset/COVID/images\" \"/content/drive/MyDrive/Xray_train_data/COVID\""
      ]
    },
    {
      "cell_type": "code",
      "execution_count": null,
      "metadata": {
        "id": "L6q_V44dDfNZ"
      },
      "outputs": [],
      "source": [
        "!ls -1 \"/content/drive/MyDrive/Xray_train_data/COVID\"| wc -l"
      ]
    },
    {
      "cell_type": "code",
      "execution_count": null,
      "metadata": {
        "id": "bkuVwkORDllm"
      },
      "outputs": [],
      "source": [
        "!mkdir \"/content/drive/MyDrive/Xray_train_data/NORMAL\""
      ]
    },
    {
      "cell_type": "code",
      "execution_count": null,
      "metadata": {
        "id": "0C8qMphoEJze"
      },
      "outputs": [],
      "source": [
        "import pandas as pd\n",
        "PATH_TO_METADATA = \"/content/drive/MyDrive/covid19-radiography-database/COVID-19_Radiography_Dataset/Normal.metadata.xlsx\"\n",
        "df = pd.read_excel(PATH_TO_METADATA)\n",
        "df.head()"
      ]
    },
    {
      "cell_type": "code",
      "execution_count": null,
      "metadata": {
        "collapsed": true,
        "id": "rMKr2KNFDw_j"
      },
      "outputs": [],
      "source": [
        "import os\n",
        "import shutil\n",
        "cnt = 0\n",
        "for (i, row) in df.iterrows():\n",
        "    if (cnt < 3616):\n",
        "        filename = row[\"FILE NAME\"].lower().capitalize() + \".\" + row[\"FORMAT\"].lower()\n",
        "        image_path = os.path.join(\"/content/drive/MyDrive/covid19-radiography-database/COVID-19_Radiography_Dataset/Normal/images\", filename)\n",
        "        image_copy_path = os.path.join(\"/content/drive/MyDrive/Xray_train_data/NORMAL\", filename)\n",
        "        shutil.copy2(image_path, image_copy_path)\n",
        "        cnt += 1"
      ]
    },
    {
      "cell_type": "code",
      "execution_count": null,
      "metadata": {
        "id": "6SKQbGQYLQkV"
      },
      "outputs": [],
      "source": [
        "print(cnt)"
      ]
    },
    {
      "cell_type": "code",
      "source": [
        "!ls \"/content/drive/MyDrive/Xray_train_data\""
      ],
      "metadata": {
        "id": "AXK1j_fE7_ez"
      },
      "execution_count": null,
      "outputs": []
    },
    {
      "cell_type": "code",
      "source": [
        "IMAGE_SIZE = (256, 256)\n",
        "IMAGE_SHAPE = IMAGE_SIZE + (3,)"
      ],
      "metadata": {
        "id": "z2B-5cB1-npn"
      },
      "execution_count": null,
      "outputs": []
    },
    {
      "cell_type": "code",
      "source": [
        "train_data_dir= \"/content/drive/MyDrive/Xray_train_data\""
      ],
      "metadata": {
        "id": "unNKQ_SR8VH8"
      },
      "execution_count": null,
      "outputs": []
    },
    {
      "cell_type": "code",
      "source": [
        "test_data_dir= \"/content/drive/MyDrive/Xray_train_data\""
      ],
      "metadata": {
        "id": "ZxpnzpcU-jIN"
      },
      "execution_count": null,
      "outputs": []
    },
    {
      "cell_type": "markdown",
      "source": [
        "##Importing The Libraries"
      ],
      "metadata": {
        "id": "fZNh2H_lQbCW"
      }
    },
    {
      "cell_type": "code",
      "source": [
        "import tensorflow as tf\n",
        "from tensorflow.keras.layers import Dense, Flatten, Input\n",
        "from tensorflow.keras.models import Model\n",
        "from tensorflow.keras.preprocessing import image\n",
        "from tensorflow.keras.preprocessing.image import ImageDataGenerator, load_img\n",
        "from tensorflow.keras.applications.inception_v3 import InceptionV3, preprocess_input\n",
        "from glob import glob\n",
        "import numpy as np\n",
        "import matplotlib.pyplot as plt"
      ],
      "metadata": {
        "id": "FcerqtKYQg8i"
      },
      "execution_count": null,
      "outputs": []
    },
    {
      "cell_type": "code",
      "source": [
        "from tensorflow.keras.preprocessing.image import ImageDataGenerator\n",
        "img_height, img_width= IMAGE_SIZE\n",
        "batch_size=16\n",
        "train_datagen = ImageDataGenerator(rescale=1./255,zoom_range=0.2,shear_range=0.2,validation_split=0.3)"
      ],
      "metadata": {
        "id": "e9Ku2bGqQ9U9"
      },
      "execution_count": null,
      "outputs": []
    },
    {
      "cell_type": "code",
      "source": [
        "train_generator = train_datagen.flow_from_directory(\n",
        "    train_data_dir,\n",
        "    target_size=(img_height, img_width),\n",
        "    batch_size=batch_size,\n",
        "    class_mode='binary',\n",
        "    subset='training')\n",
        "validation_generator = train_datagen.flow_from_directory(\n",
        "    train_data_dir, # same directory as training data\n",
        "    target_size=(img_height, img_width),\n",
        "    batch_size=batch_size,\n",
        "    class_mode='binary',\n",
        "    subset='validation')"
      ],
      "metadata": {
        "id": "WeTcqT58x7wz"
      },
      "execution_count": null,
      "outputs": []
    },
    {
      "cell_type": "markdown",
      "source": [
        "# VGG16"
      ],
      "metadata": {
        "id": "Oohs4K_UydXP"
      }
    },
    {
      "cell_type": "code",
      "source": [
        "from tensorflow.keras.applications.vgg16 import VGG16\n",
        "from tensorflow.keras.layers import Dense,Flatten\n",
        "from tensorflow.keras.models import Model"
      ],
      "metadata": {
        "id": "xB1EEjDByWF5"
      },
      "execution_count": null,
      "outputs": []
    },
    {
      "cell_type": "code",
      "source": [
        "vgg = VGG16(include_top=False,input_shape=(256,256,3))"
      ],
      "metadata": {
        "id": "PBwwQX_dyhNO"
      },
      "execution_count": null,
      "outputs": []
    },
    {
      "cell_type": "code",
      "source": [
        "vgg.summary()"
      ],
      "metadata": {
        "id": "6xBkxfAHzFa-"
      },
      "execution_count": null,
      "outputs": []
    },
    {
      "cell_type": "code",
      "source": [
        "for layer in vgg.layers:\n",
        "  layer.trainable=False"
      ],
      "metadata": {
        "id": "IwObag2WzIip"
      },
      "execution_count": null,
      "outputs": []
    },
    {
      "cell_type": "code",
      "source": [
        "x = Flatten()(vgg.output)"
      ],
      "metadata": {
        "id": "ABKyONg9zLZk"
      },
      "execution_count": null,
      "outputs": []
    },
    {
      "cell_type": "code",
      "source": [
        "output = Dense(1, activation='sigmoid')(x)"
      ],
      "metadata": {
        "id": "yodmBee0zPYl"
      },
      "execution_count": null,
      "outputs": []
    },
    {
      "cell_type": "code",
      "source": [
        "vgg16 = Model(vgg.input,output)"
      ],
      "metadata": {
        "id": "HNztXx-KzRcz"
      },
      "execution_count": null,
      "outputs": []
    },
    {
      "cell_type": "code",
      "source": [
        "vgg16.compile(loss='binary_crossentropy',optimizer='adam',metrics=['accuracy'])"
      ],
      "metadata": {
        "id": "5ChSkKYizVzr"
      },
      "execution_count": null,
      "outputs": []
    },
    {
      "cell_type": "code",
      "source": [
        "vgg16.fit(train_generator,validation_data=validation_generator,epochs=5)"
      ],
      "metadata": {
        "id": "JFiclKSs30EL"
      },
      "execution_count": null,
      "outputs": []
    },
    {
      "cell_type": "code",
      "source": [
        "probabilities = vgg16.predict(generator=validation_generator)\n",
        "probabilities"
      ],
      "metadata": {
        "id": "4dJHthQ8cpXV"
      },
      "execution_count": null,
      "outputs": []
    },
    {
      "cell_type": "code",
      "source": [
        "y_true = validation_generator.classes\n",
        "y_true"
      ],
      "metadata": {
        "id": "2qonDnpAfEh-"
      },
      "execution_count": null,
      "outputs": []
    },
    {
      "cell_type": "code",
      "source": [
        "y_pred = probabilities > 0.5\n",
        "y_pred"
      ],
      "metadata": {
        "id": "SivexGtmg7y9"
      },
      "execution_count": null,
      "outputs": []
    },
    {
      "cell_type": "code",
      "source": [
        "from sklearn.metrics import confusion_matrix\n",
        "cf_matrix = confusion_matrix(y_true, y_pred)\n",
        "print(cf_matrix)"
      ],
      "metadata": {
        "id": "AxMuClqmkpzt"
      },
      "execution_count": null,
      "outputs": []
    },
    {
      "cell_type": "code",
      "source": [
        "import seaborn as sns\n",
        "sns.heatmap(cf_matrix/np.sum(cf_matrix), annot=True,\n",
        "            fmt='.2%', cmap='Blues')"
      ],
      "metadata": {
        "id": "7LkZOIYqkt99"
      },
      "execution_count": null,
      "outputs": []
    },
    {
      "cell_type": "code",
      "source": [
        "import numpy as np\n",
        "\n",
        "def calculate_metrics(confusion_matrix):\n",
        "    # Extract values from the confusion matrix\n",
        "    TP = confusion_matrix[1, 1]\n",
        "    TN = confusion_matrix[0, 0]\n",
        "    FP = confusion_matrix[0, 1]\n",
        "    FN = confusion_matrix[1, 0]\n",
        "\n",
        "    # Calculate accuracy\n",
        "    accuracy = (TP + TN) / np.sum(confusion_matrix)\n",
        "\n",
        "    # Calculate precision\n",
        "    precision = TP / (TP + FP) if (TP + FP) != 0 else 0\n",
        "\n",
        "    # Calculate recall (sensitivity/TPR)\n",
        "    recall = TP / (TP + FN) if (TP + FN) != 0 else 0\n",
        "\n",
        "    # Calculate specificity\n",
        "    specificity = TN / (TN + FP) if (TN + FP) != 0 else 0\n",
        "\n",
        "    return accuracy, precision, recall, specificity\n",
        "\n",
        "accuracy, precision, recall, specificity = calculate_metrics(cf_matrix)\n",
        "\n",
        "print(f'Accuracy: {accuracy:.2f}')\n",
        "print(f'Precision: {precision:.2f}')\n",
        "print(f'Recall: {recall:.2f}')\n",
        "print(f'Specificity: {specificity:.2f}')\n"
      ],
      "metadata": {
        "id": "htYN_9LVk1Wk"
      },
      "execution_count": null,
      "outputs": []
    },
    {
      "cell_type": "code",
      "source": [
        "vgg16.save(\"vgg16.h5\")"
      ],
      "metadata": {
        "id": "8pnlJqYAoi4f"
      },
      "execution_count": null,
      "outputs": []
    }
  ],
  "metadata": {
    "colab": {
      "provenance": []
    },
    "kernelspec": {
      "display_name": "Python 3",
      "name": "python3"
    },
    "language_info": {
      "name": "python"
    }
  },
  "nbformat": 4,
  "nbformat_minor": 0
}