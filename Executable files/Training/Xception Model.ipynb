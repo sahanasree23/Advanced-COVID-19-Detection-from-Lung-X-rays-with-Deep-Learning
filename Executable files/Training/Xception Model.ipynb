{
  "cells": [
    {
      "cell_type": "markdown",
      "metadata": {
        "id": "KukCpyGdbr4i"
      },
      "source": [
        "## Connect to Google Drive to access Dataset"
      ]
    },
    {
      "cell_type": "code",
      "execution_count": null,
      "metadata": {
        "id": "fiVzQaKEAoj-"
      },
      "outputs": [],
      "source": [
        "from google.colab import drive\n",
        "import zipfile\n",
        "import os\n",
        "\n",
        "# Mount Google Drive\n",
        "drive.mount('/content/drive')"
      ]
    },
    {
      "cell_type": "code",
      "source": [
        "%cd /content/drive/MyDrive"
      ],
      "metadata": {
        "id": "kb79Zf3xB5kO"
      },
      "execution_count": null,
      "outputs": []
    },
    {
      "cell_type": "markdown",
      "source": [
        "## Create Training And Testing Dataset"
      ],
      "metadata": {
        "id": "lJamN-5Q-3_s"
      }
    },
    {
      "cell_type": "code",
      "source": [
        "train_data_dir= \"/content/drive/MyDrive/Xray_train_data\""
      ],
      "metadata": {
        "id": "unNKQ_SR8VH8"
      },
      "execution_count": null,
      "outputs": []
    },
    {
      "cell_type": "code",
      "source": [
        "test_data_dir= \"/content/drive/MyDrive/Xray_train_data\""
      ],
      "metadata": {
        "id": "ZxpnzpcU-jIN"
      },
      "execution_count": null,
      "outputs": []
    },
    {
      "cell_type": "code",
      "source": [
        "IMAGE_SIZE = (256, 256)\n",
        "IMAGE_SHAPE = IMAGE_SIZE + (3,)"
      ],
      "metadata": {
        "id": "twNriqkDzy0p"
      },
      "execution_count": null,
      "outputs": []
    },
    {
      "cell_type": "markdown",
      "source": [
        "##Importing The Libraries"
      ],
      "metadata": {
        "id": "fZNh2H_lQbCW"
      }
    },
    {
      "cell_type": "code",
      "source": [
        "import tensorflow as tf\n",
        "from tensorflow.keras.layers import Dense, Flatten, Input\n",
        "from tensorflow.keras.models import Model\n",
        "from tensorflow.keras.preprocessing import image\n",
        "from tensorflow.keras.preprocessing.image import ImageDataGenerator, load_img\n",
        "from tensorflow.keras.applications.inception_v3 import InceptionV3, preprocess_input\n",
        "from glob import glob\n",
        "import numpy as np\n",
        "import matplotlib.pyplot as plt"
      ],
      "metadata": {
        "id": "FcerqtKYQg8i"
      },
      "execution_count": null,
      "outputs": []
    },
    {
      "cell_type": "code",
      "source": [
        "from tensorflow.keras.preprocessing.image import ImageDataGenerator\n",
        "img_height, img_width= IMAGE_SIZE\n",
        "batch_size=16\n",
        "train_datagen = ImageDataGenerator(rescale=1./255,zoom_range=0.2,shear_range=0.2,validation_split=0.3)"
      ],
      "metadata": {
        "id": "e9Ku2bGqQ9U9"
      },
      "execution_count": null,
      "outputs": []
    },
    {
      "cell_type": "code",
      "source": [
        "train_generator = train_datagen.flow_from_directory(\n",
        "    train_data_dir,\n",
        "    target_size=(img_height, img_width),\n",
        "    batch_size=batch_size,\n",
        "    class_mode='binary',\n",
        "    subset='training')\n",
        "validation_generator = train_datagen.flow_from_directory(\n",
        "    train_data_dir, # same directory as training data\n",
        "    target_size=(img_height, img_width),\n",
        "    batch_size=batch_size,\n",
        "    class_mode='binary',\n",
        "    subset='validation')"
      ],
      "metadata": {
        "id": "WeTcqT58x7wz"
      },
      "execution_count": null,
      "outputs": []
    },
    {
      "cell_type": "code",
      "source": [
        "from tensorflow.keras.applications.xception import Xception\n",
        "from tensorflow.keras.layers import Dense,Flatten\n",
        "from tensorflow.keras.models import Model"
      ],
      "metadata": {
        "id": "4gcjLBCNyynf"
      },
      "execution_count": null,
      "outputs": []
    },
    {
      "cell_type": "code",
      "source": [
        "Xception = Xception(include_top=False,input_shape=(256,256,3))"
      ],
      "metadata": {
        "id": "KUPLwDGyzmqI"
      },
      "execution_count": null,
      "outputs": []
    },
    {
      "cell_type": "code",
      "source": [
        "x = Flatten()(Xception.output)"
      ],
      "metadata": {
        "id": "Pe9L-R0y0cSI"
      },
      "execution_count": null,
      "outputs": []
    },
    {
      "cell_type": "code",
      "source": [
        "output = Dense(1, activation='sigmoid')(x)"
      ],
      "metadata": {
        "id": "OgOix5hD5GOC"
      },
      "execution_count": null,
      "outputs": []
    },
    {
      "cell_type": "code",
      "source": [
        "Xception = Model(Xception.input,output)"
      ],
      "metadata": {
        "id": "PIdtJ1zt5JEG"
      },
      "execution_count": null,
      "outputs": []
    },
    {
      "cell_type": "code",
      "source": [
        "Xception.summary()"
      ],
      "metadata": {
        "collapsed": true,
        "id": "FFHeTap75Nyl"
      },
      "execution_count": null,
      "outputs": []
    },
    {
      "cell_type": "code",
      "source": [
        "Xception.compile(loss='binary_crossentropy',optimizer='adam',metrics=['accuracy'])"
      ],
      "metadata": {
        "id": "yRUpep805Sn-"
      },
      "execution_count": null,
      "outputs": []
    },
    {
      "cell_type": "code",
      "source": [
        "Xception.fit(train_generator,validation_data=validation_generator,epochs=5)"
      ],
      "metadata": {
        "id": "shmt73op5YFO"
      },
      "execution_count": null,
      "outputs": []
    },
    {
      "cell_type": "code",
      "source": [
        "Xception.save(\"Xception.h5\")"
      ],
      "metadata": {
        "id": "H6g7DrOAHUBL"
      },
      "execution_count": null,
      "outputs": []
    },
    {
      "cell_type": "code",
      "source": [
        "# Get predictions\n",
        "probabilities = Xception.predict(validation_generator)\n",
        "\n",
        "# Display the probabilities\n",
        "print(probabilities)"
      ],
      "metadata": {
        "id": "r5_uq9g-D8IC"
      },
      "execution_count": null,
      "outputs": []
    },
    {
      "cell_type": "code",
      "source": [
        "y_true = validation_generator.classes\n",
        "y_true"
      ],
      "metadata": {
        "id": "zMDmZ3wjD-Vx"
      },
      "execution_count": null,
      "outputs": []
    },
    {
      "cell_type": "code",
      "source": [
        "y_pred = probabilities > 0.5\n",
        "y_pred"
      ],
      "metadata": {
        "id": "w6quLBcxECmj"
      },
      "execution_count": null,
      "outputs": []
    },
    {
      "cell_type": "code",
      "source": [
        "from sklearn.metrics import confusion_matrix\n",
        "cf_matrix = confusion_matrix(y_true, y_pred)\n",
        "print(cf_matrix)"
      ],
      "metadata": {
        "id": "uWbBpdogEGG_"
      },
      "execution_count": null,
      "outputs": []
    },
    {
      "cell_type": "code",
      "source": [
        "import seaborn as sns\n",
        "sns.heatmap(cf_matrix/np.sum(cf_matrix), annot=True,\n",
        "            fmt='.2%', cmap='Blues')"
      ],
      "metadata": {
        "id": "L5oBmrhDEIIL"
      },
      "execution_count": null,
      "outputs": []
    },
    {
      "cell_type": "code",
      "source": [
        "import numpy as np\n",
        "\n",
        "def calculate_metrics(confusion_matrix):\n",
        "    # Extract values from the confusion matrix\n",
        "    TP = confusion_matrix[1, 1]\n",
        "    TN = confusion_matrix[0, 0]\n",
        "    FP = confusion_matrix[0, 1]\n",
        "    FN = confusion_matrix[1, 0]\n",
        "\n",
        "    # Calculate accuracy\n",
        "    accuracy = (TP + TN) / np.sum(confusion_matrix)\n",
        "\n",
        "    # Calculate precision\n",
        "    precision = TP / (TP + FP) if (TP + FP) != 0 else 0\n",
        "\n",
        "    # Calculate recall (sensitivity/TPR)\n",
        "    recall = TP / (TP + FN) if (TP + FN) != 0 else 0\n",
        "\n",
        "    # Calculate specificity\n",
        "    specificity = TN / (TN + FP) if (TN + FP) != 0 else 0\n",
        "\n",
        "    return accuracy, precision, recall, specificity\n",
        "\n",
        "accuracy, precision, recall, specificity = calculate_metrics(cf_matrix)\n",
        "\n",
        "print(f'Accuracy: {accuracy:.2f}')\n",
        "print(f'Precision: {precision:.2f}')\n",
        "print(f'Recall: {recall:.2f}')\n",
        "print(f'Specificity: {specificity:.2f}')\n"
      ],
      "metadata": {
        "id": "0vJOPbqCEKgM"
      },
      "execution_count": null,
      "outputs": []
    },
    {
      "cell_type": "code",
      "source": [],
      "metadata": {
        "id": "GELsybmEEO_x"
      },
      "execution_count": null,
      "outputs": []
    }
  ],
  "metadata": {
    "colab": {
      "provenance": [],
      "private_outputs": true,
      "gpuType": "V28"
    },
    "kernelspec": {
      "display_name": "Python 3",
      "name": "python3"
    },
    "language_info": {
      "name": "python"
    },
    "accelerator": "TPU"
  },
  "nbformat": 4,
  "nbformat_minor": 0
}